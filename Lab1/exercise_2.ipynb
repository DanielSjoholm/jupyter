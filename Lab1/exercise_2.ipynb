{
 "cells": [
  {
   "cell_type": "code",
   "execution_count": null,
   "metadata": {},
   "outputs": [
    {
     "name": "stdout",
     "output_type": "stream",
     "text": [
      "För högt!\n",
      "Rätt gissat!\n",
      "Genomsnittlig poäng för Kalle: 90.00\n",
      "För högt!\n",
      "För lågt!\n",
      "För lågt!\n",
      "Rätt gissat!\n",
      "Genomsnittlig poäng för Kalle: 80.00\n"
     ]
    }
   ],
   "source": [
    "import random\n",
    "import pandas as pd\n",
    "\n",
    "def play_game(level):\n",
    "    if level == 'lätt':\n",
    "        max_number = 10\n",
    "    elif level == 'mellan':\n",
    "        max_number = 20\n",
    "    else:\n",
    "        max_number = 30\n",
    "\n",
    "    number_to_guess = random.randint(1, max_number)\n",
    "    attempts = 0\n",
    "    score = 100\n",
    "    guessed_numbers = set()\n",
    "\n",
    "    while True:\n",
    "        try:\n",
    "            guess = int(input(f\"Gissa ett nummer mellan 1 och {max_number}: \"))\n",
    "        except ValueError:\n",
    "            print(\"Felaktig inmatning! Vänligen ange ett giltigt heltal.\")\n",
    "            continue\n",
    "\n",
    "        if guess in guessed_numbers:\n",
    "            print(f\"Du har redan gissat på {guess}. Försök ett annat nummer.\")\n",
    "            continue\n",
    "\n",
    "        guessed_numbers.add(guess)\n",
    "        attempts += 1\n",
    "\n",
    "        if guess < number_to_guess:\n",
    "            print(\"För lågt!\")\n",
    "        elif guess > number_to_guess:\n",
    "            print(\"För högt!\")\n",
    "        else:\n",
    "            print(\"Rätt gissat!\")\n",
    "            break\n",
    "\n",
    "    score -= (attempts - 1) * 10\n",
    "    return score\n",
    "\n",
    "def main():\n",
    "    scores = []\n",
    "    names = []\n",
    "    levels = []\n",
    "    while True:\n",
    "        name = input(\"Ange ditt namn: \").capitalize()\n",
    "        level = input(\"Välj nivå (lätt, mellan, svår): \").lower()\n",
    "        score = play_game(level)\n",
    "        scores.append(score)\n",
    "        names.append(name)\n",
    "        levels.append(level)\n",
    "\n",
    "        data = {'Namn': [name], 'Poäng': [score], 'Svårighetsgrad': [level]}\n",
    "        df = pd.DataFrame(data)\n",
    "\n",
    "        df.to_csv('poäng.csv', mode='a', header=not pd.io.common.file_exists('poäng.csv'), index=False)\n",
    "\n",
    "        df_all = pd.read_csv('poäng.csv')\n",
    "        avg_scores = df_all[df_all['Namn'] == name]['Poäng'].mean()\n",
    "        print(f\"Genomsnittlig poäng för {name}: {avg_scores:.2f}\")\n",
    "\n",
    "        play_again = input(\"Vill du spela igen? (ja/nej): \").lower()\n",
    "        if play_again != 'ja':\n",
    "            break\n",
    "\n",
    "if __name__ == \"__main__\":\n",
    "    main()"
   ]
  }
 ],
 "metadata": {
  "kernelspec": {
   "display_name": ".venv",
   "language": "python",
   "name": "python3"
  },
  "language_info": {
   "codemirror_mode": {
    "name": "ipython",
    "version": 3
   },
   "file_extension": ".py",
   "mimetype": "text/x-python",
   "name": "python",
   "nbconvert_exporter": "python",
   "pygments_lexer": "ipython3",
   "version": "3.12.6"
  }
 },
 "nbformat": 4,
 "nbformat_minor": 2
}

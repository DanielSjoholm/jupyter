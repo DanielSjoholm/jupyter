{
 "cells": [
  {
   "cell_type": "code",
   "execution_count": 1,
   "metadata": {},
   "outputs": [
    {
     "name": "stdout",
     "output_type": "stream",
     "text": [
      "      Name  Score\n",
      "0    Alice     88\n",
      "1      Bob     92\n",
      "2  Charlie     70\n",
      "3    Diana     85\n",
      "4      Eve     78\n"
     ]
    }
   ],
   "source": [
    "import pandas as pd\n",
    "\n",
    "dp = pd.read_csv('Exercise_4_Advanced_Student_Scores.txt', sep=',')\n",
    "\n",
    "print(dp.head())"
   ]
  },
  {
   "cell_type": "code",
   "execution_count": 2,
   "metadata": {},
   "outputs": [
    {
     "name": "stdout",
     "output_type": "stream",
     "text": [
      "      Name  Score Category\n",
      "0    Alice     88        A\n",
      "1      Bob     92        A\n",
      "2  Charlie     70        B\n",
      "3    Diana     85        B\n",
      "4      Eve     78        B\n",
      "5    Frank     65        C\n",
      "6    Grace     91        A\n",
      "7    Henry     73        B\n",
      "8      Ivy     68        C\n",
      "9     Jack     87        A\n"
     ]
    }
   ],
   "source": [
    "def categorize_score(score):\n",
    "    if score > 85:\n",
    "        return 'A'\n",
    "    elif 70 <= score <= 85:\n",
    "        return 'B'\n",
    "    else:\n",
    "        return 'C'\n",
    "\n",
    "dp['Category'] = dp['Score'].apply(categorize_score)\n",
    "print(dp)"
   ]
  },
  {
   "cell_type": "code",
   "execution_count": 4,
   "metadata": {},
   "outputs": [
    {
     "name": "stdout",
     "output_type": "stream",
     "text": [
      "  Category  Total_Students  Average_Score                    Students\n",
      "0        A               4           89.5     Alice, Bob, Grace, Jack\n",
      "1        B               4           76.5  Charlie, Diana, Eve, Henry\n",
      "2        C               2           66.5                  Frank, Ivy\n"
     ]
    }
   ],
   "source": [
    "summary_report = dp.groupby('Category').agg(\n",
    "    Total_Students=('Name', 'count'),\n",
    "    Average_Score=('Score', 'mean'),\n",
    "    Students=('Name', lambda x: ', '.join(x))\n",
    ").reset_index()\n",
    "\n",
    "print(summary_report)\n",
    "summary_report.to_csv('summary_report.csv', index=False)"
   ]
  },
  {
   "cell_type": "code",
   "execution_count": null,
   "metadata": {},
   "outputs": [],
   "source": []
  }
 ],
 "metadata": {
  "kernelspec": {
   "display_name": ".venv",
   "language": "python",
   "name": "python3"
  },
  "language_info": {
   "codemirror_mode": {
    "name": "ipython",
    "version": 3
   },
   "file_extension": ".py",
   "mimetype": "text/x-python",
   "name": "python",
   "nbconvert_exporter": "python",
   "pygments_lexer": "ipython3",
   "version": "3.12.5"
  }
 },
 "nbformat": 4,
 "nbformat_minor": 2
}

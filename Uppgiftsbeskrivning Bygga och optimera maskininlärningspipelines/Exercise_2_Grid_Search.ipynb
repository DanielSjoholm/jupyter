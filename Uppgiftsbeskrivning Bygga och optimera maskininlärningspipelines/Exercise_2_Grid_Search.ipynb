{
 "cells": [
  {
   "cell_type": "markdown",
   "id": "7fd18735",
   "metadata": {},
   "source": [
    "# Exercise 2: Grid Search och Random Search\n",
    "I denna övning ska du använda Grid Search och Random Search för att optimera en modell.\n",
    "\n",
    "**Instruktioner:**\n",
    "- Använd `GridSearchCV` och `RandomizedSearchCV` från `scikit-learn`.\n",
    "- Utför optimering för en `Ridge`-modell."
   ]
  },
  {
   "cell_type": "code",
   "execution_count": null,
   "id": "1d91ea19",
   "metadata": {},
   "outputs": [],
   "source": [
    "from sklearn.model_selection import GridSearchCV, RandomizedSearchCV\n",
    "from sklearn.linear_model import Ridge\n",
    "from scipy.stats import uniform\n",
    "\n",
    "# Definiera parametergrid\n",
    "param_grid = {'alpha': [0.1, 1.0, 10.0]}\n",
    "\n",
    "# Grid Search\n",
    "ridge = Ridge()\n",
    "grid_search = GridSearchCV(ridge, param_grid, cv=3)\n",
    "grid_search.fit(X_train, y_train)\n",
    "print(f'Grid Search bästa parametrar: {grid_search.best_params_}')\n",
    "\n",
    "# Random Search\n",
    "param_dist = {'alpha': uniform(0.1, 10)}\n",
    "random_search = RandomizedSearchCV(ridge, param_distributions=param_dist, n_iter=10, cv=3)\n",
    "random_search.fit(X_train, y_train)\n",
    "print(f'Random Search bästa parametrar: {random_search.best_params_}')"
   ]
  }
 ],
 "metadata": {},
 "nbformat": 4,
 "nbformat_minor": 5
}

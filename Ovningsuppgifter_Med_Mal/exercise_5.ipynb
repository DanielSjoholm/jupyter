{
 "cells": [
  {
   "cell_type": "code",
   "execution_count": 2,
   "metadata": {},
   "outputs": [
    {
     "name": "stdout",
     "output_type": "stream",
     "text": [
      "This is a sample text. It contains several words. Some words appear more frequently than others. Text analysis is a fundamental method to understand patterns in text.\n"
     ]
    }
   ],
   "source": [
    "import pandas as pd\n",
    "\n",
    "with open('Exercise_5_Text_Analysis.txt', 'r') as file:\n",
    "    text = file.read()\n",
    "\n",
    "print(text)"
   ]
  },
  {
   "cell_type": "code",
   "execution_count": 3,
   "metadata": {},
   "outputs": [
    {
     "name": "stdout",
     "output_type": "stream",
     "text": [
      "Meningar: ['This is a sample text', 'It contains several words', 'Some words appear more frequently than others', 'Text analysis is a fundamental method to understand patterns in text']\n",
      "Antal meningar: 4\n",
      "Antal ord: 27\n"
     ]
    }
   ],
   "source": [
    "# Läs in texten (den här är för illustrationen, byt ut med din textfil)\n",
    "text = \"\"\"This is a sample text. It contains several words. Some words appear more frequently than others. \n",
    "Text analysis is a fundamental method to understand patterns in text.\"\"\"\n",
    "\n",
    "sentences = [sentence.strip() for sentence in text.split('.') if sentence.strip()]\n",
    "words = text.split()\n",
    "\n",
    "# Skriv ut resultat\n",
    "print(f'Meningar: {sentences}')\n",
    "print(f'Antal meningar: {len(sentences)}')\n",
    "print(f'Antal ord: {len(words)}')"
   ]
  },
  {
   "cell_type": "code",
   "execution_count": 6,
   "metadata": {},
   "outputs": [
    {
     "name": "stdout",
     "output_type": "stream",
     "text": [
      "This: 1\n",
      "is: 2\n",
      "a: 2\n",
      "sample: 1\n",
      "text.: 2\n",
      "It: 1\n",
      "contains: 1\n",
      "several: 1\n",
      "words.: 1\n",
      "Some: 1\n",
      "words: 1\n",
      "appear: 1\n",
      "more: 1\n",
      "frequently: 1\n",
      "than: 1\n",
      "others.: 1\n",
      "Text: 1\n",
      "analysis: 1\n",
      "fundamental: 1\n",
      "method: 1\n",
      "to: 1\n",
      "understand: 1\n",
      "patterns: 1\n",
      "in: 1\n",
      "Number of unique words: 24\n",
      "the most common word is \"is\" with 2 occurrences\n"
     ]
    }
   ],
   "source": [
    "from collections import Counter\n",
    "\n",
    "word_counts = Counter(words)\n",
    "\n",
    "for word, count in word_counts.items():\n",
    "    print(f'{word}: {count}')\n",
    "\n",
    "print('Number of unique words:', len(word_counts))\n",
    "\n",
    "print(f'the most common word is \"{most_common_words[0][0]}\" with {most_common_words[0][1]} occurrences')"
   ]
  }
 ],
 "metadata": {
  "kernelspec": {
   "display_name": "Python 3 (ipykernel)",
   "language": "python",
   "name": "python3"
  },
  "language_info": {
   "codemirror_mode": {
    "name": "ipython",
    "version": 3
   },
   "file_extension": ".py",
   "mimetype": "text/x-python",
   "name": "python",
   "nbconvert_exporter": "python",
   "pygments_lexer": "ipython3",
   "version": "3.12.6"
  }
 },
 "nbformat": 4,
 "nbformat_minor": 4
}

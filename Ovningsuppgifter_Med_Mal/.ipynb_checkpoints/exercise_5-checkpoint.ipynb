{
 "cells": [
  {
   "cell_type": "code",
   "execution_count": 2,
   "metadata": {},
   "outputs": [
    {
     "name": "stdout",
     "output_type": "stream",
     "text": [
      "This is a sample text. It contains several words. Some words appear more frequently than others. Text analysis is a fundamental method to understand patterns in text.\n"
     ]
    }
   ],
   "source": [
    "import pandas as pd\n",
    "\n",
    "with open('Exercise_5_Text_Analysis.txt', 'r') as file:\n",
    "    text = file.read()\n",
    "\n",
    "print(text)"
   ]
  },
  {
   "cell_type": "code",
   "execution_count": 4,
   "metadata": {},
   "outputs": [
    {
     "name": "stdout",
     "output_type": "stream",
     "text": [
      "Meningar: ['This is a sample text', 'It contains several words', 'Some words appear more frequently than others', 'Text analysis is a fundamental method to understand patterns in text']\n",
      "Antal meningar: 4\n",
      "Antal ord: 27\n"
     ]
    }
   ],
   "source": [
    "# Läs in texten (den här är för illustrationen, byt ut med din textfil)\n",
    "text = \"\"\"This is a sample text. It contains several words. Some words appear more frequently than others. \n",
    "Text analysis is a fundamental method to understand patterns in text.\"\"\"\n",
    "\n",
    "sentences = [sentence.strip() for sentence in text.split('.') if sentence.strip()]\n",
    "words = text.split()\n",
    "\n",
    "# Skriv ut resultat\n",
    "print(f'Meningar: {sentences}')\n",
    "print(f'Antal meningar: {len(sentences)}')\n",
    "print(f'Antal ord: {len(words)}')"
   ]
  },
  {
   "cell_type": "code",
   "execution_count": 8,
   "metadata": {},
   "outputs": [
    {
     "name": "stdout",
     "output_type": "stream",
     "text": [
      "[('is', 2), ('a', 2), ('text.', 2), ('This', 1), ('sample', 1), ('It', 1), ('contains', 1), ('several', 1), ('words.', 1), ('Some', 1), ('words', 1), ('appear', 1), ('more', 1), ('frequently', 1), ('than', 1), ('others.', 1), ('Text', 1), ('analysis', 1), ('fundamental', 1), ('method', 1), ('to', 1), ('understand', 1), ('patterns', 1), ('in', 1)]\n",
      "Number of unique words: 24\n",
      "the most common word is \"is\" with 2 occurrences\n"
     ]
    }
   ],
   "source": [
    "from collections import Counter\n",
    "\n",
    "word_counts = Counter(words)\n",
    "\n",
    "most_common_words = word_counts.most_common()\n",
    "\n",
    "print(most_common_words)\n",
    "\n",
    "print('Number of unique words:', len(word_counts))\n",
    "\n",
    "print(f'the most common word is \"{most_common_words[0][0]}\" with {most_common_words[0][1]} occurrences')"
   ]
  }
 ],
 "metadata": {
  "kernelspec": {
   "display_name": ".venv",
   "language": "python",
   "name": "python3"
  },
  "language_info": {
   "codemirror_mode": {
    "name": "ipython",
    "version": 3
   },
   "file_extension": ".py",
   "mimetype": "text/x-python",
   "name": "python",
   "nbconvert_exporter": "python",
   "pygments_lexer": "ipython3",
   "version": "3.12.6"
  }
 },
 "nbformat": 4,
 "nbformat_minor": 2
}

{
 "cells": [
  {
   "cell_type": "code",
   "execution_count": 1,
   "metadata": {},
   "outputs": [
    {
     "name": "stdout",
     "output_type": "stream",
     "text": [
      "      Name  Score\n",
      "0    Alice     75\n",
      "1      Bob     82\n",
      "2  Charlie     68\n",
      "3    Diana     90\n",
      "4      Eve     88\n"
     ]
    }
   ],
   "source": [
    "import pandas as pd\n",
    "\n",
    "df = pd.read_csv('Exercise_4_Student_Scores.txt')\n",
    "\n",
    "print(df.head())"
   ]
  },
  {
   "cell_type": "code",
   "execution_count": 3,
   "metadata": {},
   "outputs": [
    {
     "name": "stdout",
     "output_type": "stream",
     "text": [
      "      Name  Score\n",
      "3    Diana     90\n",
      "4      Eve     88\n",
      "1      Bob     82\n",
      "0    Alice     75\n",
      "2  Charlie     68\n"
     ]
    }
   ],
   "source": [
    "df_sorted = df.sort_values(by=['Score'], ascending=False)\n",
    "\n",
    "print(df_sorted)"
   ]
  },
  {
   "cell_type": "code",
   "execution_count": 4,
   "metadata": {},
   "outputs": [
    {
     "name": "stdout",
     "output_type": "stream",
     "text": [
      "    Name  Score\n",
      "3  Diana     90\n",
      "4    Eve     88\n",
      "1    Bob     82\n"
     ]
    }
   ],
   "source": [
    "top_3_students = df_sorted.head(3)\n",
    "print(top_3_students)"
   ]
  }
 ],
 "metadata": {
  "kernelspec": {
   "display_name": ".venv",
   "language": "python",
   "name": "python3"
  },
  "language_info": {
   "codemirror_mode": {
    "name": "ipython",
    "version": 3
   },
   "file_extension": ".py",
   "mimetype": "text/x-python",
   "name": "python",
   "nbconvert_exporter": "python",
   "pygments_lexer": "ipython3",
   "version": "3.12.6"
  }
 },
 "nbformat": 4,
 "nbformat_minor": 2
}

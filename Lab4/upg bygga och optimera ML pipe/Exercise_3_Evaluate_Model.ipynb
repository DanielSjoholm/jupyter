{
 "cells": [
  {
   "cell_type": "markdown",
   "id": "21356ab6",
   "metadata": {},
   "source": [
    "# Exercise 3: Visualisera och utvärdera modellprestanda\n",
    "I denna övning ska du:\n",
    "1. Jämföra prestanda mellan flera modeller.\n",
    "2. Visualisera resultaten med `matplotlib`.\n",
    "\n",
    "**Instruktioner:**\n",
    "- Utvärdera och jämför modellerna från Grid Search och Random Search."
   ]
  },
  {
   "cell_type": "code",
   "execution_count": null,
   "id": "c01bb212",
   "metadata": {},
   "outputs": [],
   "source": [
    "import matplotlib.pyplot as plt\n",
    "\n",
    "# Utvärdera Grid Search-modellen\n",
    "ridge_best = grid_search.best_estimator_\n",
    "ridge_predictions = ridge_best.predict(X_test)\n",
    "ridge_mse = mean_squared_error(y_test, ridge_predictions)\n",
    "\n",
    "# Utvärdera Random Search-modellen\n",
    "random_ridge_best = random_search.best_estimator_\n",
    "random_ridge_predictions = random_ridge_best.predict(X_test)\n",
    "random_ridge_mse = mean_squared_error(y_test, random_ridge_predictions)\n",
    "\n",
    "# Visualisera resultaten\n",
    "models = ['Grid Search Ridge', 'Random Search Ridge']\n",
    "mse_values = [ridge_mse, random_ridge_mse]\n",
    "plt.bar(models, mse_values)\n",
    "plt.ylabel('Mean Squared Error')\n",
    "plt.title('Modellprestanda')\n",
    "plt.show()"
   ]
  }
 ],
 "metadata": {},
 "nbformat": 4,
 "nbformat_minor": 5
}

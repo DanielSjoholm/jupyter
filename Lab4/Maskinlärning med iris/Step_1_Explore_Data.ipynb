{
 "cells": [
  {
   "cell_type": "markdown",
   "id": "b4016ac0",
   "metadata": {},
   "source": [
    "# Övning 1: Utforskning av dataset\n",
    "I denna övning ska du:\n",
    "1. Ladda in ett dataset med hjälp av `pandas`.\n",
    "2. Analysera data för att identifiera mönster och saknade värden.\n",
    "\n",
    "**Instruktioner:**\n",
    "- Använd datasetet `iris.csv` (eller liknande) som innehåller information om blommor.\n",
    "- Utför beskrivande statistik och visualiseringar av datasetet."
   ]
  },
  {
   "cell_type": "code",
   "execution_count": null,
   "id": "f2e016b0",
   "metadata": {},
   "outputs": [],
   "source": [
    "# Importera nödvändiga bibliotek\n",
    "import pandas as pd\n",
    "import matplotlib.pyplot as plt\n",
    "\n",
    "# Ladda datasetet\n",
    "iris = pd.read_csv('iris.csv')\n",
    "\n",
    "# Visa de första raderna i datasetet\n",
    "print(iris.head())\n",
    "\n",
    "# Utför beskrivande statistik\n",
    "print(iris.describe())\n",
    "\n",
    "# Visualisera data, till exempel histogram för en viss kolumn\n",
    "iris['sepal_length'].hist()\n",
    "plt.show()"
   ]
  }
 ],
 "metadata": {},
 "nbformat": 4,
 "nbformat_minor": 5
}

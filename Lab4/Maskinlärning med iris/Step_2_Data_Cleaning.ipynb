{
 "cells": [
  {
   "cell_type": "markdown",
   "id": "66b577d0",
   "metadata": {},
   "source": [
    "# Övning 2: Datatransformation och städning\n",
    "I denna övning ska du:\n",
    "1. Identifiera och behandla saknade värden.\n",
    "2. Normalisera och skala data.\n",
    "\n",
    "**Instruktioner:**\n",
    "- Ladda datasetet `iris.csv`.\n",
    "- Hantera saknade värden genom att ersätta dem med medelvärdet."
   ]
  },
  {
   "cell_type": "code",
   "execution_count": null,
   "id": "dc595e6a",
   "metadata": {},
   "outputs": [],
   "source": [
    "# Identifiera saknade värden\n",
    "print(iris.isnull().sum())\n",
    "\n",
    "# Ersätt saknade värden med kolumnens medelvärde\n",
    "iris = iris.fillna(iris.mean())\n",
    "\n",
    "# Skala data med MinMaxScaler\n",
    "from sklearn.preprocessing import MinMaxScaler\n",
    "scaler = MinMaxScaler()\n",
    "scaled_data = scaler.fit_transform(iris.iloc[:, :-1])  # Anta att sista kolumnen är målvariabel\n",
    "print(scaled_data[:5])"
   ]
  }
 ],
 "metadata": {},
 "nbformat": 4,
 "nbformat_minor": 5
}

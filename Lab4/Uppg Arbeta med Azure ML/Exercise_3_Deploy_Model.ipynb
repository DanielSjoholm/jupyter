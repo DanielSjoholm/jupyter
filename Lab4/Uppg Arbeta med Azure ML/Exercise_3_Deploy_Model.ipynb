{
 "cells": [
  {
   "cell_type": "markdown",
   "id": "7348e641",
   "metadata": {},
   "source": [
    "# Exercise 3: Distribuera en modell till Azure\n",
    "I denna övning ska du:\n",
    "1. Registrera en tränad modell.\n",
    "2. Distribuera modellen som en webbservice.\n",
    "3. Testa modellen via REST API.\n",
    "\n",
    "**Instruktioner:**\n",
    "Använd Azure ML SDK för att registrera och distribuera modellen."
   ]
  },
  {
   "cell_type": "code",
   "execution_count": null,
   "id": "79383ed7",
   "metadata": {},
   "outputs": [],
   "source": [
    "from azureml.core.model import Model\n",
    "from azureml.core.webservice import AciWebservice\n",
    "from azureml.core.model import InferenceConfig\n",
    "\n",
    "# Registrera modellen\n",
    "model = Model.register(workspace=ws, model_path='outputs/model.pkl', model_name='my_model')\n",
    "\n",
    "# Konfigurera inferens\n",
    "inference_config = InferenceConfig(runtime='python', entry_script='score.py', conda_file='environment.yml')\n",
    "deployment_config = AciWebservice.deploy_configuration(cpu_cores=1, memory_gb=1)\n",
    "\n",
    "# Distribuera modellen\n",
    "service = Model.deploy(workspace=ws, name='myservice', models=[model], inference_config=inference_config, deployment_config=deployment_config)\n",
    "service.wait_for_deployment(show_output=True)\n",
    "print(f'Modellen är distribuerad på: {service.scoring_uri}')"
   ]
  }
 ],
 "metadata": {},
 "nbformat": 4,
 "nbformat_minor": 5
}

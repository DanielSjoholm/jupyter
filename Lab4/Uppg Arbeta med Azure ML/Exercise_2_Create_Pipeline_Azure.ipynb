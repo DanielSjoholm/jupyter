{
 "cells": [
  {
   "cell_type": "markdown",
   "id": "c330c23d",
   "metadata": {},
   "source": [
    "# Exercise 2: Skapa och kör en pipeline i Azure ML SDK\n",
    "I denna övning ska du:\n",
    "1. Skapa en pipeline som laddar och transformerar data.\n",
    "2. Tränar en modell.\n",
    "3. Skickar pipeline-jobbet till Azure.\n",
    "\n",
    "**Instruktioner:**\n",
    "Använd `Pipeline` och `PipelineData`-klasserna från Azure ML SDK."
   ]
  },
  {
   "cell_type": "code",
   "execution_count": null,
   "id": "e118acbc",
   "metadata": {},
   "outputs": [],
   "source": [
    "from azureml.pipeline.core import Pipeline, PipelineData\n",
    "from azureml.pipeline.steps import PythonScriptStep\n",
    "from azureml.core import Experiment\n",
    "\n",
    "# Definiera pipeline-utdata\n",
    "pipeline_output = PipelineData('output', datastore=ws.get_default_datastore())\n",
    "\n",
    "# Skapa ett pipeline-steg\n",
    "train_step = PythonScriptStep(\n",
    "    name='Träna modell',\n",
    "    script_name='train.py',\n",
    "    arguments=['--output', pipeline_output],\n",
    "    outputs=[pipeline_output],\n",
    "    compute_target='local',\n",
    "    source_directory='./scripts'\n",
    ")\n",
    "\n",
    "# Skapa och kör pipeline\n",
    "pipeline = Pipeline(workspace=ws, steps=[train_step])\n",
    "experiment = Experiment(workspace=ws, name='pipeline_experiment')\n",
    "run = experiment.submit(pipeline)\n",
    "run.wait_for_completion(show_output=True)"
   ]
  }
 ],
 "metadata": {},
 "nbformat": 4,
 "nbformat_minor": 5
}

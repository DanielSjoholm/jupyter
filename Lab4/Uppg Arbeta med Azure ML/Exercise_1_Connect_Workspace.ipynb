{
 "cells": [
  {
   "cell_type": "markdown",
   "id": "eb99ed19",
   "metadata": {},
   "source": [
    "# Exercise 1: Anslut till Azure ML Workspace\n",
    "I denna övning ska du:\n",
    "1. Autentisera och ansluta till din Azure ML-arbetsyta med SDK.\n",
    "2. Kontrollera arbetsytans detaljer.\n",
    "\n",
    "**Instruktioner:**\n",
    "Följ koden för att ansluta till en arbetsyta och verifiera anslutningen."
   ]
  },
  {
   "cell_type": "code",
   "execution_count": null,
   "id": "d262aced",
   "metadata": {},
   "outputs": [],
   "source": [
    "from azureml.core import Workspace\n",
    "\n",
    "# Anslut till arbetsytan\n",
    "try:\n",
    "    ws = Workspace.from_config()\n",
    "    print('Arbetsyta laddad från konfigurationsfilen.')\n",
    "except Exception as e:\n",
    "    print(f'Kunde inte ansluta till arbetsytan: {e}')\n",
    "\n",
    "# Bekräfta arbetsytans detaljer\n",
    "print(f'Arbetsytans namn: {ws.name}')\n",
    "print(f'Prenumeration: {ws.subscription_id}')\n",
    "print(f'Resursgrupp: {ws.resource_group}')"
   ]
  }
 ],
 "metadata": {},
 "nbformat": 4,
 "nbformat_minor": 5
}

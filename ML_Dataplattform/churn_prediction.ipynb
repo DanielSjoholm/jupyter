{
 "cells": [
  {
   "cell_type": "code",
   "execution_count": 1,
   "metadata": {},
   "outputs": [],
   "source": [
    "# Importera nödvändiga bibliotek\n",
    "import pandas as pd\n",
    "import numpy as np\n",
    "from datetime import datetime\n",
    "from sklearn.model_selection import train_test_split\n",
    "from sklearn.ensemble import RandomForestClassifier\n",
    "from sklearn.metrics import accuracy_score, precision_score, recall_score, confusion_matrix, classification_report\n",
    "import seaborn as sns\n",
    "import matplotlib.pyplot as plt\n"
   ]
  },
  {
   "cell_type": "markdown",
   "metadata": {},
   "source": [
    "# Ladda och förbered data"
   ]
  },
  {
   "cell_type": "code",
   "execution_count": 2,
   "metadata": {},
   "outputs": [
    {
     "name": "stdout",
     "output_type": "stream",
     "text": [
      "Customer Data:\n",
      "   CustomerID FirstName  LastName                 Email          Phone\n",
      "0        1000      Jane     Brown  user1000@example.com  1234567891000\n",
      "1        1001     Chris   Johnson  user1001@example.com  1234567891001\n",
      "2        1002     Emily     Brown  user1002@example.com  1234567891002\n",
      "3        1003      Jane     Smith  user1003@example.com  1234567891003\n",
      "4        1004     Chris  Williams  user1004@example.com  1234567891004\n",
      "\n",
      "Transaction Data:\n",
      "   TransactionID  CustomerID      TransactionDate  Amount     Category\n",
      "0              0        2869  2023-01-01 00:00:00  242.74  Electronics\n",
      "1              1        1424  2023-01-01 01:00:00  132.46     Clothing\n",
      "2              2        1948  2023-01-01 02:00:00   66.99     Clothing\n",
      "3              3        3414  2023-01-01 03:00:00  412.16  Electronics\n",
      "4              4        1436  2023-01-01 04:00:00  310.24    Groceries\n"
     ]
    }
   ],
   "source": [
    "# Läs in datasets\n",
    "customer_data = pd.read_csv('customer_details.csv')  # Kundinformation\n",
    "transactions = pd.read_csv('transactions.csv')    # Transaktionsdata\n",
    "\n",
    "# Visa de första raderna i varje dataset\n",
    "print(\"Customer Data:\")\n",
    "print(customer_data.head())\n",
    "\n",
    "print(\"\\nTransaction Data:\")\n",
    "print(transactions.head())\n"
   ]
  },
  {
   "cell_type": "code",
   "execution_count": 3,
   "metadata": {},
   "outputs": [
    {
     "name": "stdout",
     "output_type": "stream",
     "text": [
      "<class 'pandas.core.frame.DataFrame'>\n",
      "RangeIndex: 1000 entries, 0 to 999\n",
      "Data columns (total 5 columns):\n",
      " #   Column           Non-Null Count  Dtype         \n",
      "---  ------           --------------  -----         \n",
      " 0   TransactionID    1000 non-null   int64         \n",
      " 1   CustomerID       1000 non-null   int64         \n",
      " 2   TransactionDate  1000 non-null   datetime64[ns]\n",
      " 3   Amount           1000 non-null   float64       \n",
      " 4   Category         1000 non-null   object        \n",
      "dtypes: datetime64[ns](1), float64(1), int64(2), object(1)\n",
      "memory usage: 39.2+ KB\n",
      "None\n"
     ]
    }
   ],
   "source": [
    "# Konvertera TransactionDate till datetime-format\n",
    "transactions['TransactionDate'] = pd.to_datetime(transactions['TransactionDate'])\n",
    "\n",
    "# Kontrollera att datum har konverterats korrekt\n",
    "print(transactions.info())\n"
   ]
  },
  {
   "cell_type": "code",
   "execution_count": 4,
   "metadata": {},
   "outputs": [
    {
     "name": "stdout",
     "output_type": "stream",
     "text": [
      "   CustomerID LastTransactionDate\n",
      "0        1000 2023-01-25 08:00:00\n",
      "1        1006 2023-01-21 07:00:00\n",
      "2        1008 2023-01-28 20:00:00\n",
      "3        1020 2023-01-05 07:00:00\n",
      "4        1025 2023-01-02 11:00:00\n"
     ]
    }
   ],
   "source": [
    "# Beräkna senaste transaktionsdatum för varje kund\n",
    "last_transaction = transactions.groupby('CustomerID')['TransactionDate'].max().reset_index()\n",
    "last_transaction.columns = ['CustomerID', 'LastTransactionDate']\n",
    "\n",
    "# Visa resultatet\n",
    "print(last_transaction.head())\n"
   ]
  },
  {
   "cell_type": "code",
   "execution_count": 5,
   "metadata": {},
   "outputs": [
    {
     "name": "stdout",
     "output_type": "stream",
     "text": [
      "   CustomerID LastTransactionDate  DaysSinceLastTransaction\n",
      "0        1000 2023-01-25 08:00:00                        20\n",
      "1        1006 2023-01-21 07:00:00                        24\n",
      "2        1008 2023-01-28 20:00:00                        17\n",
      "3        1020 2023-01-05 07:00:00                        40\n",
      "4        1025 2023-01-02 11:00:00                        43\n"
     ]
    }
   ],
   "source": [
    "# Beräkna antal dagar sedan senaste transaktion\n",
    "today = pd.to_datetime(\"2023-02-15\")\n",
    "last_transaction['DaysSinceLastTransaction'] = (today - last_transaction['LastTransactionDate']).dt.days\n",
    "\n",
    "# Kontrollera att kolumnen har lagts till korrekt\n",
    "print(last_transaction.head())\n"
   ]
  },
  {
   "cell_type": "code",
   "execution_count": 6,
   "metadata": {},
   "outputs": [
    {
     "name": "stdout",
     "output_type": "stream",
     "text": [
      "   CustomerID FirstName  LastName                 Email          Phone  \\\n",
      "0        1000      Jane     Brown  user1000@example.com  1234567891000   \n",
      "1        1001     Chris   Johnson  user1001@example.com  1234567891001   \n",
      "2        1002     Emily     Brown  user1002@example.com  1234567891002   \n",
      "3        1003      Jane     Smith  user1003@example.com  1234567891003   \n",
      "4        1004     Chris  Williams  user1004@example.com  1234567891004   \n",
      "\n",
      "  LastTransactionDate  DaysSinceLastTransaction  \n",
      "0 2023-01-25 08:00:00                      20.0  \n",
      "1                 NaT                    9999.0  \n",
      "2                 NaT                    9999.0  \n",
      "3                 NaT                    9999.0  \n",
      "4                 NaT                    9999.0  \n"
     ]
    }
   ],
   "source": [
    "# Slå ihop kunddata och transaktionsdata baserat på CustomerID\n",
    "merged_data = pd.merge(customer_data, last_transaction, on='CustomerID', how='left')\n",
    "\n",
    "# Fyll saknade värden i DaysSinceLastTransaction (t.ex. kunder utan transaktioner)\n",
    "merged_data['DaysSinceLastTransaction'] = merged_data['DaysSinceLastTransaction'].fillna(9999)\n",
    "\n",
    "# Kontrollera resultatet\n",
    "print(merged_data.head())\n"
   ]
  },
  {
   "cell_type": "code",
   "execution_count": 7,
   "metadata": {},
   "outputs": [
    {
     "name": "stdout",
     "output_type": "stream",
     "text": [
      "   CustomerID  DaysSinceLastTransaction  Churn\n",
      "0        1000                      20.0      1\n",
      "1        1001                    9999.0      1\n",
      "2        1002                    9999.0      1\n",
      "3        1003                    9999.0      1\n",
      "4        1004                    9999.0      1\n"
     ]
    }
   ],
   "source": [
    "# Definiera churn: kunder som inte har gjort en transaktion på över 90 dagar\n",
    "merged_data['Churn'] = merged_data['DaysSinceLastTransaction'].apply(lambda x: 1 if x > 15 else 0)\n",
    "\n",
    "# Kontrollera resultatet\n",
    "print(merged_data[['CustomerID', 'DaysSinceLastTransaction', 'Churn']].head())\n"
   ]
  },
  {
   "cell_type": "code",
   "execution_count": 8,
   "metadata": {},
   "outputs": [
    {
     "name": "stdout",
     "output_type": "stream",
     "text": [
      "Features Shape: (4000, 1)\n",
      "Target Shape: (4000,)\n"
     ]
    }
   ],
   "source": [
    "# Välj funktioner och målvariabel\n",
    "X = merged_data[['DaysSinceLastTransaction']]  # Lägg till fler funktioner om det behövs\n",
    "y = merged_data['Churn']\n",
    "\n",
    "# Kontrollera dimensionerna\n",
    "print(\"Features Shape:\", X.shape)\n",
    "print(\"Target Shape:\", y.shape)\n"
   ]
  },
  {
   "cell_type": "markdown",
   "metadata": {},
   "source": [
    "# Dela upp data"
   ]
  },
  {
   "cell_type": "code",
   "execution_count": 9,
   "metadata": {},
   "outputs": [
    {
     "name": "stdout",
     "output_type": "stream",
     "text": [
      "Training Set Shape: (2800, 1)\n",
      "Test Set Shape: (1200, 1)\n"
     ]
    }
   ],
   "source": [
    "# Dela upp data i tränings- och testset\n",
    "X_train, X_test, y_train, y_test = train_test_split(X, y, test_size=0.3, random_state=42, stratify=y)\n",
    "\n",
    "# Kontrollera dimensionerna för tränings- och testset\n",
    "print(\"Training Set Shape:\", X_train.shape)\n",
    "print(\"Test Set Shape:\", X_test.shape)\n"
   ]
  },
  {
   "cell_type": "code",
   "execution_count": 10,
   "metadata": {},
   "outputs": [],
   "source": [
    "# Skapa och träna en Random Forest-modell\n",
    "model = RandomForestClassifier(random_state=42, n_estimators=100)\n",
    "model.fit(X_train, y_train)\n",
    "\n",
    "# Gör förutsägelser\n",
    "predictions = model.predict(X_test)\n"
   ]
  },
  {
   "cell_type": "markdown",
   "metadata": {},
   "source": [
    "# Implementera och träna modellen"
   ]
  },
  {
   "cell_type": "code",
   "execution_count": 11,
   "metadata": {},
   "outputs": [
    {
     "name": "stdout",
     "output_type": "stream",
     "text": [
      "\n",
      "Model Performance Metrics:\n",
      "Accuracy: 1.0\n",
      "Precision: 1.0\n",
      "Recall: 1.0\n",
      "\n",
      "Classification Report:\n",
      "               precision    recall  f1-score   support\n",
      "\n",
      "           0       1.00      1.00      1.00        90\n",
      "           1       1.00      1.00      1.00      1110\n",
      "\n",
      "    accuracy                           1.00      1200\n",
      "   macro avg       1.00      1.00      1.00      1200\n",
      "weighted avg       1.00      1.00      1.00      1200\n",
      "\n"
     ]
    }
   ],
   "source": [
    "# Beräkna mätvärden\n",
    "print(\"\\nModel Performance Metrics:\")\n",
    "print(\"Accuracy:\", accuracy_score(y_test, predictions))\n",
    "print(\"Precision:\", precision_score(y_test, predictions))\n",
    "print(\"Recall:\", recall_score(y_test, predictions))\n",
    "print(\"\\nClassification Report:\\n\", classification_report(y_test, predictions))\n"
   ]
  },
  {
   "cell_type": "markdown",
   "metadata": {},
   "source": [
    "# Utvärdera modellen"
   ]
  },
  {
   "cell_type": "code",
   "execution_count": 12,
   "metadata": {},
   "outputs": [
    {
     "data": {
      "image/png": "[encoded data removed]",
      "text/plain": [
       "<Figure size 640x480 with 1 Axes>"
      ]
     },
     "metadata": {},
     "output_type": "display_data"
    }
   ],
   "source": [
    "# Kontrollera funktionens betydelse\n",
    "importances = model.feature_importances_\n",
    "features = X.columns\n",
    "sns.barplot(x=importances, y=features)\n",
    "plt.title('Feature Importances')\n",
    "plt.show()\n"
   ]
  },
  {
   "cell_type": "markdown",
   "metadata": {},
   "source": [
    "# Visualisera funktionens betydelse"
   ]
  },
  {
   "cell_type": "code",
   "execution_count": 13,
   "metadata": {},
   "outputs": [
    {
     "data": {
      "image/png": "[encoded data removed]",
      "text/plain": [
       "<Figure size 640x480 with 2 Axes>"
      ]
     },
     "metadata": {},
     "output_type": "display_data"
    }
   ],
   "source": [
    "cm = confusion_matrix(y_test, predictions)\n",
    "sns.heatmap(cm, annot=True, fmt='d', cmap='Blues')\n",
    "plt.title('Confusion Matrix')\n",
    "plt.xlabel('Predicted')\n",
    "plt.ylabel('Actual')\n",
    "plt.show()"
   ]
  },
  {
   "cell_type": "code",
   "execution_count": 14,
   "metadata": {},
   "outputs": [
    {
     "name": "stdout",
     "output_type": "stream",
     "text": [
      "Churn\n",
      "1    3701\n",
      "0     299\n",
      "Name: count, dtype: int64\n"
     ]
    },
    {
     "data": {
      "image/png": "[encoded data removed]",
      "text/plain": [
       "<Figure size 640x480 with 1 Axes>"
      ]
     },
     "metadata": {},
     "output_type": "display_data"
    }
   ],
   "source": [
    "# Kontrollera fördelningen av Churn\n",
    "print(merged_data['Churn'].value_counts())\n",
    "\n",
    "# Visualisera fördelningen\n",
    "sns.countplot(x='Churn', data=merged_data)\n",
    "plt.title('Distribution of Churn')\n",
    "plt.xlabel('Churn (0 = No, 1 = Yes)')\n",
    "plt.ylabel('Count')\n",
    "plt.show()\n"
   ]
  }
 ],
 "metadata": {
  "kernelspec": {
   "display_name": ".venv",
   "language": "python",
   "name": "python3"
  },
  "language_info": {
   "codemirror_mode": {
    "name": "ipython",
    "version": 3
   },
   "file_extension": ".py",
   "mimetype": "text/x-python",
   "name": "python",
   "nbconvert_exporter": "python",
   "pygments_lexer": "ipython3",
   "version": "3.12.5"
  }
 },
 "nbformat": 4,
 "nbformat_minor": 2
}

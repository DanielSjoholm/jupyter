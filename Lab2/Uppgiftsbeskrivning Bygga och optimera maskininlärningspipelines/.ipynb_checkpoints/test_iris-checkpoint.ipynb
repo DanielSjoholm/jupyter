{
 "cells": [
  {
   "cell_type": "code",
   "execution_count": null,
   "metadata": {},
   "outputs": [],
   "source": [
    "from sklearn.datasets import load_iris\n",
    "from sklearn.model_selection import train_test_split\n",
    "from sklearn.linear_model import LogisticRegression\n",
    "from sklearn.metrics import accuracy_score\n",
    "\n",
    "iris = load_iris()\n",
    "\n",
    "X, y = iris.data, iris.target\n",
    "\n",
    "X_train, X_test, y_train, y_test = train_test_split(X, y, test_size=0.2, random_state=42)\n",
    "\n",
    "model = LogisticRegression()\n",
    "\n",
    "model.fit(X_train, y_train)\n",
    "\n",
    "predictions = model.predict(X_test)\n",
    "accuracy = accuracy_score(y_test, predictions)\n",
    "\n",
    "print(f'model accuracy: {accuracy}')\n",
    "print(f'predictions: {predictions}')"
   ]
  },
  {
   "cell_type": "code",
   "execution_count": null,
   "metadata": {},
   "outputs": [],
   "source": [
    "import numpy as np\n",
    "import matplotlib.pyplot as plt\n",
    "from sklearn.decomposition import PCA\n",
    "\n",
    "# Reducera till 2 dimensioner med PCA för att kunna plotta\n",
    "pca = PCA(n_components=2)\n",
    "X_reduced = pca.fit_transform(X)\n",
    "\n",
    "# Dela upp i tränings- och testset igen\n",
    "X_train_reduced, X_test_reduced, y_train, y_test = train_test_split(\n",
    "    X_reduced, y, test_size=0.2, random_state=42\n",
    ")\n",
    "\n",
    "# Träna modellen igen på reducerad data\n",
    "model.fit(X_train_reduced, y_train)\n",
    "\n",
    "# Skapa en grid för att plotta beslutsgränser\n",
    "x_min, x_max = X_reduced[:, 0].min() - 1, X_reduced[:, 0].max() + 1\n",
    "y_min, y_max = X_reduced[:, 1].min() - 1, X_reduced[:, 1].max() + 1\n",
    "xx, yy = np.meshgrid(np.arange(x_min, x_max, 0.01), np.arange(y_min, y_max, 0.01))\n",
    "\n",
    "# Förutsäga varje punkt i griden\n",
    "Z = model.predict(np.c_[xx.ravel(), yy.ravel()])\n",
    "Z = Z.reshape(xx.shape)\n",
    "\n",
    "# Rita beslutsgränserna\n",
    "plt.contourf(xx, yy, Z, alpha=0.8, cmap=plt.cm.Paired)\n",
    "\n",
    "# Plotta datapunkter med färger som representerar klasser\n",
    "scatter = plt.scatter(\n",
    "    X_reduced[:, 0], X_reduced[:, 1], c=y, edgecolor=\"k\", s=30, cmap=plt.cm.Paired\n",
    ")\n",
    "\n",
    "# Lägg till en manuell legend med arternas namn\n",
    "legend_labels = iris.target_names\n",
    "for i, label in enumerate(legend_labels):\n",
    "    plt.scatter([], [], c=plt.cm.Paired(i / len(legend_labels)), label=label)\n",
    "plt.legend(title=\"Arter\", loc=\"upper right\")\n",
    "\n",
    "# Titel och axelbeskrivningar\n",
    "plt.title(\"Beslutsgränser för Logistic Regression (PCA-reducerad data)\")\n",
    "plt.xlabel(f\"Komponent 1 ({round(pca.explained_variance_ratio_[0] * 100, 2)}% varians)\")\n",
    "plt.ylabel(f\"Komponent 2 ({round(pca.explained_variance_ratio_[1] * 100, 2)}% varians)\")\n",
    "\n",
    "# Visa grafen\n",
    "plt.show()\n"
   ]
  },
  {
   "cell_type": "code",
   "execution_count": null,
   "metadata": {},
   "outputs": [],
   "source": [
    "import pandas as pd\n",
    "\n",
    "# Skapa en DataFrame för att jämföra faktiska och förutsagda värden\n",
    "comparison = pd.DataFrame({'Faktiskt': y_test, 'Prediktion': predictions})\n",
    "print(comparison)\n",
    "\n",
    "# Plotta en förväntad vs. förutsagd jämförelse\n",
    "plt.figure(figsize=(6, 4))\n",
    "plt.scatter(range(len(y_test)), y_test, label=\"Faktiskt\", alpha=0.7)\n",
    "plt.scatter(range(len(predictions)), predictions, label=\"Prediktion\", marker='x', alpha=0.7)\n",
    "plt.legend()\n",
    "plt.title(\"Faktiskt vs Prediktion\")\n",
    "plt.xlabel(\"Index\")\n",
    "plt.ylabel(\"Klass\")\n",
    "plt.show()\n"
   ]
  },
  {
   "cell_type": "code",
   "execution_count": null,
   "metadata": {},
   "outputs": [],
   "source": [
    "from sklearn.metrics import confusion_matrix, ConfusionMatrixDisplay\n",
    "\n",
    "# Skapa konfusionsmatris\n",
    "cm = confusion_matrix(y_test, predictions)\n",
    "disp = ConfusionMatrixDisplay(confusion_matrix=cm, display_labels=iris.target_names)\n",
    "\n",
    "# Plotta matrisen\n",
    "disp.plot(cmap=plt.cm.Blues)\n",
    "plt.title(\"Konfusionsmatris för Logistic Regression\")\n",
    "plt.show()\n"
   ]
  }
 ],
 "metadata": {
  "kernelspec": {
   "display_name": ".venv",
   "language": "python",
   "name": "python3"
  },
  "language_info": {
   "codemirror_mode": {
    "name": "ipython",
    "version": 3
   },
   "file_extension": ".py",
   "mimetype": "text/x-python",
   "name": "python",
   "nbconvert_exporter": "python",
   "pygments_lexer": "ipython3",
   "version": "3.12.5"
  }
 },
 "nbformat": 4,
 "nbformat_minor": 2
}

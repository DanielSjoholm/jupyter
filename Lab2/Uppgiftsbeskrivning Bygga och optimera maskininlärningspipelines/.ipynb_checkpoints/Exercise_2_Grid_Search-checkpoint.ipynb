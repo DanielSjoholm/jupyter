{
 "cells": [
  {
   "cell_type": "markdown",
   "id": "7fd18735",
   "metadata": {},
   "source": [
    "# Exercise 2: Grid Search och Random Search\n",
    "I denna övning ska du använda Grid Search och Random Search för att optimera en modell.\n",
    "\n",
    "**Instruktioner:**\n",
    "- Använd `GridSearchCV` och `RandomizedSearchCV` från `scikit-learn`.\n",
    "- Utför optimering för en `Ridge`-modell."
   ]
  },
  {
   "cell_type": "code",
   "execution_count": 1,
   "id": "1d91ea19",
   "metadata": {},
   "outputs": [
    {
     "name": "stdout",
     "output_type": "stream",
     "text": [
      "Grid Search bästa parametrar: {'alpha': 0.1}\n",
      "Random Search bästa parametrar: {'alpha': np.float64(0.6808361216819946)}\n"
     ]
    }
   ],
   "source": [
    "# Importera nödvändiga bibliotek\n",
    "import pandas as pd\n",
    "from sklearn.model_selection import train_test_split, GridSearchCV, RandomizedSearchCV\n",
    "from sklearn.linear_model import Ridge\n",
    "from scipy.stats import uniform\n",
    "\n",
    "# Ladda datasetet\n",
    "iris = pd.read_csv(\"iris_transformed.csv\")\n",
    "\n",
    "# Definiera indata och målvariabel\n",
    "X = iris[['sepal_length', 'sepal_width', 'petal_length', 'petal_width']]\n",
    "y = iris['sepal_width']  # Exempel på en numerisk målvariabel\n",
    "\n",
    "# Dela upp datasetet i tränings- och testdata\n",
    "X_train, X_test, y_train, y_test = train_test_split(X, y, test_size=0.2, random_state=42)\n",
    "\n",
    "# Definiera parametergrid för Grid Search\n",
    "param_grid = {'alpha': [0.1, 1.0, 10.0]}\n",
    "\n",
    "# Grid Search\n",
    "ridge = Ridge()\n",
    "grid_search = GridSearchCV(ridge, param_grid, cv=3)\n",
    "grid_search.fit(X_train, y_train)\n",
    "print(f'Grid Search bästa parametrar: {grid_search.best_params_}')\n",
    "\n",
    "# Definiera parameterdistribution för Random Search\n",
    "param_dist = {'alpha': uniform(0.1, 10)}\n",
    "\n",
    "# Random Search\n",
    "random_search = RandomizedSearchCV(ridge, param_distributions=param_dist, n_iter=10, cv=3, random_state=42)\n",
    "random_search.fit(X_train, y_train)\n",
    "print(f'Random Search bästa parametrar: {random_search.best_params_}')\n"
   ]
  }
 ],
 "metadata": {
  "kernelspec": {
   "display_name": ".venv",
   "language": "python",
   "name": "python3"
  },
  "language_info": {
   "codemirror_mode": {
    "name": "ipython",
    "version": 3
   },
   "file_extension": ".py",
   "mimetype": "text/x-python",
   "name": "python",
   "nbconvert_exporter": "python",
   "pygments_lexer": "ipython3",
   "version": "3.12.5"
  }
 },
 "nbformat": 4,
 "nbformat_minor": 5
}

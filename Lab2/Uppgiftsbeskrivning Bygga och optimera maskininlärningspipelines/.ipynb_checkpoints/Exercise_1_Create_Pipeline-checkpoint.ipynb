{
 "cells": [
  {
   "cell_type": "markdown",
   "id": "4ecd6563",
   "metadata": {},
   "source": [
    "# Exercise 1: Skapa en ML-pipeline\n",
    "I denna övning ska du bygga en pipeline som:\n",
    "1. Skalar data.\n",
    "2. Tränar en linjär modell med `scikit-learn`.\n",
    "\n",
    "**Instruktioner:**\n",
    "- Använd `Pipeline`-klassen från `scikit-learn` för att automatisera stegen."
   ]
  },
  {
   "cell_type": "code",
   "execution_count": null,
   "id": "38a4dc91",
   "metadata": {},
   "outputs": [],
   "source": [
    "from sklearn.pipeline import Pipeline\n",
    "from sklearn.preprocessing import StandardScaler\n",
    "from sklearn.linear_model import LinearRegression\n",
    "\n",
    "# Skapa pipeline\n",
    "pipeline = Pipeline([\n",
    "    ('scaler', StandardScaler()),\n",
    "    ('model', LinearRegression())\n",
    "])\n",
    "\n",
    "# Träna pipeline på träningsdata\n",
    "pipeline.fit(X_train, y_train)\n",
    "\n",
    "# Utvärdera pipeline på testdata\n",
    "predictions = pipeline.predict(X_test)\n",
    "print(f'Första 5 prediktioner: {predictions[:5]}')"
   ]
  }
 ],
 "metadata": {},
 "nbformat": 4,
 "nbformat_minor": 5
}

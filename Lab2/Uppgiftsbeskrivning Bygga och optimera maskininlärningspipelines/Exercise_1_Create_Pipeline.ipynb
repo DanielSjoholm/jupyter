{
 "cells": [
  {
   "cell_type": "markdown",
   "id": "4ecd6563",
   "metadata": {},
   "source": [
    "# Exercise 1: Skapa en ML-pipeline\n",
    "I denna övning ska du bygga en pipeline som:\n",
    "1. Skalar data.\n",
    "2. Tränar en linjär modell med `scikit-learn`.\n",
    "\n",
    "**Instruktioner:**\n",
    "- Använd `Pipeline`-klassen från `scikit-learn` för att automatisera stegen."
   ]
  },
  {
   "cell_type": "code",
   "execution_count": 1,
   "id": "38a4dc91",
   "metadata": {},
   "outputs": [
    {
     "name": "stdout",
     "output_type": "stream",
     "text": [
      "Första 5 prediktioner: [2.2 3.2 4.2 2.5 3. ]\n"
     ]
    }
   ],
   "source": [
    "# Importera nödvändiga bibliotek\n",
    "import pandas as pd\n",
    "from sklearn.pipeline import Pipeline\n",
    "from sklearn.preprocessing import StandardScaler\n",
    "from sklearn.linear_model import LinearRegression\n",
    "from sklearn.model_selection import train_test_split\n",
    "\n",
    "# Ladda datasetet\n",
    "iris = pd.read_csv(\"iris_transformed.csv\")\n",
    "\n",
    "# Definiera indata och målvariabel\n",
    "X = iris[['sepal_length', 'sepal_width', 'petal_length', 'petal_width']]\n",
    "y = iris['sepal_width']  # Exempel på en numerisk målvariabel\n",
    "\n",
    "# Dela upp datasetet i tränings- och testdata\n",
    "X_train, X_test, y_train, y_test = train_test_split(X, y, test_size=0.2, random_state=42)\n",
    "\n",
    "# Skapa pipeline\n",
    "pipeline = Pipeline([\n",
    "    ('scaler', StandardScaler()),\n",
    "    ('model', LinearRegression())\n",
    "])\n",
    "\n",
    "# Träna pipeline på träningsdata\n",
    "pipeline.fit(X_train, y_train)\n",
    "\n",
    "# Utvärdera pipeline på testdata\n",
    "predictions = pipeline.predict(X_test)\n",
    "\n",
    "# Visa de första 5 prediktionerna\n",
    "print(f'Första 5 prediktioner: {predictions[:5]}')\n"
   ]
  }
 ],
 "metadata": {
  "kernelspec": {
   "display_name": ".venv",
   "language": "python",
   "name": "python3"
  },
  "language_info": {
   "codemirror_mode": {
    "name": "ipython",
    "version": 3
   },
   "file_extension": ".py",
   "mimetype": "text/x-python",
   "name": "python",
   "nbconvert_exporter": "python",
   "pygments_lexer": "ipython3",
   "version": "3.12.5"
  }
 },
 "nbformat": 4,
 "nbformat_minor": 5
}

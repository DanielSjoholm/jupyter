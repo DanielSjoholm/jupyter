{
 "cells": [
  {
   "cell_type": "markdown",
   "id": "66b577d0",
   "metadata": {},
   "source": [
    "# Övning 2: Datatransformation och städning\n",
    "I denna övning ska du:\n",
    "1. Identifiera och behandla saknade värden.\n",
    "2. Normalisera och skala data.\n",
    "\n",
    "**Instruktioner:**\n",
    "- Ladda datasetet `iris.csv`.\n",
    "- Hantera saknade värden genom att ersätta dem med medelvärdet."
   ]
  },
  {
   "cell_type": "code",
   "execution_count": 6,
   "id": "dc595e6a",
   "metadata": {},
   "outputs": [
    {
     "name": "stdout",
     "output_type": "stream",
     "text": [
      "sepal_length    1\n",
      "sepal_width     1\n",
      "petal_length    0\n",
      "petal_width     1\n",
      "species         0\n",
      "dtype: int64\n",
      "[[0.63888889 0.         0.96610169        nan]\n",
      " [0.02777778 0.70833333 0.93220339 0.54166667]\n",
      " [0.27777778 0.66666667 0.84745763 0.83333333]\n",
      " [0.22222222 0.54166667 0.16949153 0.58333333]\n",
      " [0.75       0.25       0.49152542 0.16666667]]\n"
     ]
    }
   ],
   "source": [
    "import pandas as pd\n",
    "\n",
    "iris = pd.read_csv('iris.csv')\n",
    "\n",
    "# Identifiera saknade värden\n",
    "print(iris.isnull().sum())\n",
    "\n",
    "# Skala data med MinMaxScaler\n",
    "from sklearn.preprocessing import MinMaxScaler\n",
    "scaler = MinMaxScaler()\n",
    "scaled_data = scaler.fit_transform(iris.iloc[:, :-1])  # Anta att sista kolumnen är målvariabel\n",
    "print(scaled_data[:5])"
   ]
  },
  {
   "cell_type": "code",
   "execution_count": 5,
   "id": "5864315b",
   "metadata": {},
   "outputs": [],
   "source": [
    "# Läs in datasetet med saknade värden\n",
    "iris_with_na = pd.read_csv(\"iris.csv\")\n",
    "\n",
    "# Ersätt saknade värden med medelvärdet baserat på species\n",
    "def fill_missing_with_mean(df, group_col, target_col):\n",
    "    means = df.groupby(group_col)[target_col].transform('mean')\n",
    "    df[target_col] = df[target_col].fillna(round(means,1))\n",
    "\n",
    "# Loopa över numeriska kolumner och fyll på saknade värden\n",
    "numerical_columns = iris_with_na.select_dtypes(include='number').columns\n",
    "\n",
    "for col in numerical_columns:\n",
    "    fill_missing_with_mean(iris_with_na, 'species', col)\n",
    "\n",
    "# ladda upp transformerad data till en ny csv\n",
    "iris_with_na.to_csv('iris_transformed.csv', index=False)\n"
   ]
  }
 ],
 "metadata": {
  "kernelspec": {
   "display_name": ".venv",
   "language": "python",
   "name": "python3"
  },
  "language_info": {
   "codemirror_mode": {
    "name": "ipython",
    "version": 3
   },
   "file_extension": ".py",
   "mimetype": "text/x-python",
   "name": "python",
   "nbconvert_exporter": "python",
   "pygments_lexer": "ipython3",
   "version": "3.12.5"
  }
 },
 "nbformat": 4,
 "nbformat_minor": 5
}

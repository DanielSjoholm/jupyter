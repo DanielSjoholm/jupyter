{
 "cells": [
  {
   "cell_type": "markdown",
   "id": "b4016ac0",
   "metadata": {},
   "source": [
    "# Övning 1: Utforskning av dataset\n",
    "I denna övning ska du:\n",
    "1. Ladda in ett dataset med hjälp av `pandas`.\n",
    "2. Analysera data för att identifiera mönster och saknade värden.\n",
    "\n",
    "**Instruktioner:**\n",
    "- Använd datasetet `iris.csv` (eller liknande) som innehåller information om blommor.\n",
    "- Utför beskrivande statistik och visualiseringar av datasetet."
   ]
  },
  {
   "cell_type": "code",
   "execution_count": 16,
   "id": "f2e016b0",
   "metadata": {},
   "outputs": [
    {
     "name": "stdout",
     "output_type": "stream",
     "text": [
      "   sepal_length  sepal_width  petal_length  petal_width     species\n",
      "0           6.6          2.0           6.7          NaN  versicolor\n",
      "1           4.4          3.7           6.5          1.4   virginica\n",
      "2           5.3          3.6           6.0          2.1      setosa\n",
      "3           5.1          3.3           2.0          1.5   virginica\n",
      "4           7.0          2.6           3.9          0.5  versicolor\n",
      "       sepal_length  sepal_width  petal_length  petal_width\n",
      "count     99.000000    99.000000    100.000000    99.000000\n",
      "mean       6.018182     3.160606      4.015000     1.384848\n",
      "std        1.066595     0.704043      1.793669     0.704557\n",
      "min        4.300000     2.000000      1.000000     0.100000\n",
      "25%        5.100000     2.550000      2.475000     0.800000\n",
      "50%        6.000000     3.100000      4.150000     1.400000\n",
      "75%        6.850000     3.800000      5.425000     2.000000\n",
      "max        7.900000     4.400000      6.900000     2.500000\n"
     ]
    },
    {
     "data": {
      "image/png": "[encoded data removed]",
      "text/plain": [
       "<Figure size 640x480 with 1 Axes>"
      ]
     },
     "metadata": {},
     "output_type": "display_data"
    }
   ],
   "source": [
    "# Importera nödvändiga bibliotek\n",
    "import pandas as pd\n",
    "import matplotlib.pyplot as plt\n",
    "\n",
    "# Ladda datasetet\n",
    "iris = pd.read_csv('iris.csv')\n",
    "\n",
    "# Visa de första raderna i datasetet\n",
    "print(iris.head())\n",
    "\n",
    "# Utför beskrivande statistik\n",
    "print(iris.describe())\n",
    "\n",
    "# Visualisera data, till exempel histogram för en viss kolumn\n",
    "iris['sepal_length'].hist()\n",
    "plt.show()"
   ]
  },
  {
   "cell_type": "code",
   "execution_count": 17,
   "id": "6e2c8007",
   "metadata": {},
   "outputs": [
    {
     "name": "stdout",
     "output_type": "stream",
     "text": [
      "(100, 5)\n",
      "sepal_length    float64\n",
      "sepal_width     float64\n",
      "petal_length    float64\n",
      "petal_width     float64\n",
      "species          object\n",
      "dtype: object\n"
     ]
    }
   ],
   "source": [
    "size = iris.shape\n",
    "dtypes = iris.dtypes\n",
    "print(size)\n",
    "print(dtypes)"
   ]
  },
  {
   "cell_type": "code",
   "execution_count": 2,
   "id": "a4ba2c18",
   "metadata": {},
   "outputs": [
    {
     "name": "stdout",
     "output_type": "stream",
     "text": [
      "Index(['sepal_length', 'sepal_width', 'petal_length', 'petal_width',\n",
      "       'species'],\n",
      "      dtype='object')\n"
     ]
    }
   ],
   "source": [
    "columns =iris.columns\n",
    "\n",
    "print(columns)"
   ]
  },
  {
   "cell_type": "code",
   "execution_count": 18,
   "id": "ea5ad89e",
   "metadata": {},
   "outputs": [
    {
     "name": "stdout",
     "output_type": "stream",
     "text": [
      "sepal_length    1\n",
      "sepal_width     1\n",
      "petal_length    0\n",
      "petal_width     1\n",
      "species         0\n",
      "dtype: int64\n"
     ]
    }
   ],
   "source": [
    "missing_values = iris.isnull().sum()\n",
    "\n",
    "print(missing_values)"
   ]
  },
  {
   "cell_type": "code",
   "execution_count": 19,
   "id": "470d2d3d",
   "metadata": {},
   "outputs": [
    {
     "name": "stdout",
     "output_type": "stream",
     "text": [
      "Count species: species\n",
      "virginica     35\n",
      "setosa        34\n",
      "versicolor    31\n",
      "Name: count, dtype: int64\n",
      "Mean sepal length: 6.018181818181818\n",
      "Mean sepal width: 3.160606060606061\n",
      "Mean petal length: 4.015\n",
      "Mean petal width: 1.3848484848484848\n"
     ]
    }
   ],
   "source": [
    "Count_spacies = iris['species'].value_counts()\n",
    "mean_sepal_length = iris['sepal_length'].mean()\n",
    "mean_sepal_width = iris['sepal_width'].mean()\n",
    "mean_petal_length = iris['petal_length'].mean()\n",
    "mean_petal_width = iris['petal_width'].mean()\n",
    "print(f'Count species: {Count_spacies}')\n",
    "print(f'Mean sepal length: {mean_sepal_length}')\n",
    "print(f'Mean sepal width: {mean_sepal_width}')\n",
    "print(f'Mean petal length: {mean_petal_length}')\n",
    "print(f'Mean petal width: {mean_petal_width}')"
   ]
  }
 ],
 "metadata": {
  "kernelspec": {
   "display_name": ".venv",
   "language": "python",
   "name": "python3"
  },
  "language_info": {
   "codemirror_mode": {
    "name": "ipython",
    "version": 3
   },
   "file_extension": ".py",
   "mimetype": "text/x-python",
   "name": "python",
   "nbconvert_exporter": "python",
   "pygments_lexer": "ipython3",
   "version": "3.12.5"
  }
 },
 "nbformat": 4,
 "nbformat_minor": 5
}

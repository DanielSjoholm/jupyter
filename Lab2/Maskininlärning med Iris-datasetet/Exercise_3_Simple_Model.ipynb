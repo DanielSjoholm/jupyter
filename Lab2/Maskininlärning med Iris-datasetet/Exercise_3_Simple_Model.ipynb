{
 "cells": [
  {
   "cell_type": "markdown",
   "id": "e3285117",
   "metadata": {},
   "source": [
    "# Exercise 3: Träning av en enkel modell\n",
    "I denna övning ska du träna en linjär regressionsmodell för att förutsäga blommors egenskaper.\n",
    "\n",
    "**Instruktioner:**\n",
    "1. Dela upp datasetet i tränings- och testuppsättningar.\n",
    "2. Använd `scikit-learn` för att träna en linjär regressionsmodell.\n",
    "3. Utvärdera modellens prestanda med `mean_squared_error`."
   ]
  },
  {
   "cell_type": "code",
   "execution_count": null,
   "id": "00202979",
   "metadata": {},
   "outputs": [],
   "source": [
    "# Importera nödvändiga bibliotek\n",
    "import pandas as pd\n",
    "from sklearn.model_selection import train_test_split\n",
    "from sklearn.linear_model import LinearRegression\n",
    "from sklearn.metrics import mean_squared_error\n",
    "\n",
    "# Ladda datasetet\n",
    "iris = pd.read_csv('iris.csv')\n",
    "\n",
    "# Dela data i indata (X) och målvariabel (y)\n",
    "X = iris[['sepal_width', 'petal_length', 'petal_width']]\n",
    "y = iris['sepal_length']  # Målvariabel\n",
    "\n",
    "# Dela data i tränings- och testuppsättningar\n",
    "X_train, X_test, y_train, y_test = train_test_split(X, y, test_size=0.2, random_state=42)\n",
    "\n",
    "# Träna en linjär regressionsmodell\n",
    "model = LinearRegression()\n",
    "model.fit(X_train, y_train)\n",
    "\n",
    "# Utvärdera modellens prestanda\n",
    "predictions = model.predict(X_test)\n",
    "mse = mean_squared_error(y_test, predictions)\n",
    "print(f'Mean Squared Error: {mse}')"
   ]
  }
 ],
 "metadata": {},
 "nbformat": 4,
 "nbformat_minor": 5
}
